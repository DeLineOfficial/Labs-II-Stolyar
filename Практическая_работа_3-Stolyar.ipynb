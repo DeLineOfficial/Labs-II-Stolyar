{
  "cells": [
    {
      "cell_type": "markdown",
      "metadata": {
        "colab_type": "text",
        "id": "view-in-github"
      },
      "source": [
        "<a href=\"https://colab.research.google.com/github/enikolaev/AI_in_biotech/blob/main/%D0%9F%D1%80%D0%B0%D0%BA%D1%82%D0%B8%D1%87%D0%B5%D1%81%D0%BA%D0%B0%D1%8F_%D1%80%D0%B0%D0%B1%D0%BE%D1%82%D0%B0_3.ipynb\" target=\"_parent\"><img src=\"https://colab.research.google.com/assets/colab-badge.svg\" alt=\"Open In Colab\"/></a>"
      ]
    },
    {
      "cell_type": "markdown",
      "metadata": {
        "id": "C3DZeo7xi2HL"
      },
      "source": [
        "# Практическая работа 3. Обработка данных из файла"
      ]
    },
    {
      "cell_type": "markdown",
      "metadata": {
        "id": "8wIyzax9q7JF"
      },
      "source": [
        "## Задание"
      ]
    },
    {
      "cell_type": "markdown",
      "metadata": {
        "id": "A1UMdzQGjFix"
      },
      "source": [
        "В файле data_v1.txt найдите самый частотный прописной символ.\\\n",
        "В ответе укажите сам символ и количество. Если таких символов несколько укажите все из них."
      ]
    },
    {
      "cell_type": "markdown",
      "metadata": {
        "id": "RGlwZaXQrAfd"
      },
      "source": [
        "## Анализ задания, получение данных"
      ]
    },
    {
      "cell_type": "markdown",
      "metadata": {
        "id": "dusmGf0PoHeU"
      },
      "source": [
        "Файл data_v1.txt расположен в папке assets в корневой папке."
      ]
    },
    {
      "cell_type": "markdown",
      "metadata": {
        "id": "YlvR9gr-9qJY"
      },
      "source": [
        "Реализуем чтение всего файла в строку с использованием метоа `open()` и `read()`:"
      ]
    },
    {
      "cell_type": "code",
      "execution_count": 1,
      "metadata": {
        "colab": {
          "base_uri": "https://localhost:8080/"
        },
        "id": "GzShFx3l0l49",
        "outputId": "8a4fddd3-38f1-41cf-f1d0-0be0bccc594f"
      },
      "outputs": [
        {
          "name": "stdout",
          "output_type": "stream",
          "text": [
            "100000\n"
          ]
        }
      ],
      "source": [
        "f=open('assets/data_v1.txt')\n",
        "s=f.read().strip()\n",
        "print(len(s))"
      ]
    },
    {
      "cell_type": "markdown",
      "metadata": {
        "id": "7F4tUxgX1dwL"
      },
      "source": [
        "Обратите внимание на использование методв `strip()`"
      ]
    },
    {
      "cell_type": "markdown",
      "metadata": {
        "id": "Xs4oLWFl2eGJ"
      },
      "source": [
        "## Решение задачи"
      ]
    },
    {
      "cell_type": "markdown",
      "metadata": {
        "id": "HD07G40-3FNH"
      },
      "source": [
        "Сначала проверим наличие файла `data_v1.txt` в папке assets, далее прочитаем содержимое файла и отберем прописные символы и подсчитаем частоту каждого символа.\\\n",
        "Найдем максимальное число"
      ]
    },
    {
      "cell_type": "code",
      "execution_count": 2,
      "metadata": {
        "colab": {
          "base_uri": "https://localhost:8080/"
        },
        "id": "SHaDC2Tl2-YB",
        "outputId": "ca5b350b-acae-4e89-f6d7-3cb6b7db9950"
      },
      "outputs": [
        {
          "name": "stdout",
          "output_type": "stream",
          "text": [
            "Самые частые прописные символы:\n",
            "Символ: T, Количество: 1699\n"
          ]
        }
      ],
      "source": [
        "from collections import Counter\n",
        "import os\n",
        "\n",
        "file_path = 'assets/data_v1.txt'\n",
        "if not os.path.exists(file_path):\n",
        "    raise FileNotFoundError(\"Файл не найден\")\n",
        "\n",
        "with open(file_path, 'r', encoding='utf-8') as file:\n",
        "    text = file.read()\n",
        "\n",
        "uppercase_chars = [char for char in text if char.isupper()]\n",
        "char_counts = Counter(uppercase_chars)\n",
        "max_count = max(char_counts.values(), default=0)\n",
        "\n",
        "most_frequent = [(char, count) for char, count in char_counts.items() if count == max_count]\n",
        "\n",
        "if most_frequent:\n",
        "    print(\"Самые частые прописные символы:\")\n",
        "    for char, count in most_frequent:\n",
        "        print(f\"Символ: {char}, Количество: {count}\")\n",
        "else:\n",
        "    print(\"В файле нет прописных символов\")"
      ]
    },
    {
      "cell_type": "markdown",
      "metadata": {},
      "source": [
        "## Ответы на контрольные вопросы"
      ]
    },
    {
      "cell_type": "markdown",
      "metadata": {},
      "source": [
        "### Вопрос 1.\n",
        "\n",
        "Общие черты строки и списка в Python:\\\n",
        "Оба являются последовательными типами данных\\\n",
        "Поддерживают индексацию элементов\\\n",
        "Поддерживают срезы\\\n",
        "Имеют одинаковую длину (можно получить через len())\\\n",
        "Поддерживают операторы + (конкатенация) и * (повторение)\\\n",
        "Оба являются итерируемыми объектами\n",
        "\n",
        "### Вопрос 2.\n",
        "\n",
        "Функции класса str:\\\n",
        "Неизменяемость: строки в Python являются неизменяемыми объектами\\\n",
        "Методы форматирования: upper(), lower(), title()\\\n",
        "Методы поиска: find(), index(), count()\\\n",
        "Методы преобразования: split(), join(), replace()\\\n",
        "Методы проверки: isalpha(), isdigit(), isspace()\n",
        "\n",
        "### Вопрос 3.\n",
        "\n",
        "Тип данных dict:\\\n",
        "Представляет собой неупорядоченную коллекцию пар ключ-значение\\\n",
        "Ключи должны быть неизменяемыми типами данных\\\n",
        "Значения могут быть любого типа\\\n",
        "Основной способ доступа к данным через квадратные скобки [key]\\\n",
        "Поддерживает операции добавления, удаления и изменения элементов\n",
        "\n",
        "### Вопрос 4.\n",
        "\n",
        "Функции класса dict:\\\n",
        "Создание словаря: dict()\\\n",
        "Получение значений: get(), items(), values()\\\n",
        "Работа с ключами: keys(), pop(), popitem()\\\n",
        "Обновление данных: update()\\\n",
        "Проверка наличия: in, not in\n",
        "\n",
        "### Вопрос 5.\n",
        "\n",
        "Механизм чтения файла:\\\n",
        "Файл открывается с помощью функции open()\\\n",
        "Можно указать режим доступа (r - чтение, w - запись, a - добавление)\\\n",
        "После работы файл обязательно нужно закрыть (close())\\\n",
        "Рекомендуется использовать конструкцию with для автоматического закрытия\\\n",
        "Функции чтения файла:\\\n",
        "read(): читает весь файл целиком или указанное количество байт\\\n",
        "readline(): читает одну строку файла\\\n",
        "readlines(): читает все строки файла и возвращает список\\\n",
        "\n",
        "### Вопрос 6.\n",
        "\n",
        "Сходства:\n",
        "\n",
        "Все методы работают с открытым файлом\\\n",
        "Возвращают данные в виде строк\\\n",
        "Могут принимать параметр размера чтения\n",
        "\n",
        "Различия:\n",
        "\n",
        "read() - читает всё сразу\\\n",
        "readline() - читает построчно\\\n",
        "readlines() - читает всё и разбивает на список"
      ]
    }
  ],
  "metadata": {
    "colab": {
      "authorship_tag": "ABX9TyP8QFeWhqyUPlS4P3jU6FYS",
      "include_colab_link": true,
      "provenance": [],
      "toc_visible": true
    },
    "kernelspec": {
      "display_name": "Python 3",
      "name": "python3"
    },
    "language_info": {
      "codemirror_mode": {
        "name": "ipython",
        "version": 3
      },
      "file_extension": ".py",
      "mimetype": "text/x-python",
      "name": "python",
      "nbconvert_exporter": "python",
      "pygments_lexer": "ipython3",
      "version": "3.13.4"
    }
  },
  "nbformat": 4,
  "nbformat_minor": 0
}
