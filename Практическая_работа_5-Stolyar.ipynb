{
  "cells": [
    {
      "cell_type": "markdown",
      "metadata": {
        "colab_type": "text",
        "id": "view-in-github"
      },
      "source": [
        "<a href=\"https://colab.research.google.com/github/enikolaev/AI_in_biotech/blob/main/%D0%9F%D1%80%D0%B0%D0%BA%D1%82%D0%B8%D1%87%D0%B5%D1%81%D0%BA%D0%B0%D1%8F_%D1%80%D0%B0%D0%B1%D0%BE%D1%82%D0%B0_5.ipynb\" target=\"_parent\"><img src=\"https://colab.research.google.com/assets/colab-badge.svg\" alt=\"Open In Colab\"/></a>"
      ]
    },
    {
      "cell_type": "markdown",
      "metadata": {
        "id": "C3DZeo7xi2HL"
      },
      "source": [
        "# Практическая работа 5. Объектно-ориентированное программирование"
      ]
    },
    {
      "cell_type": "markdown",
      "metadata": {
        "id": "8wIyzax9q7JF"
      },
      "source": [
        "## Задание"
      ]
    },
    {
      "cell_type": "markdown",
      "metadata": {
        "id": "A1UMdzQGjFix"
      },
      "source": [
        "Разработать класс «Матрица MxN».\n",
        "\n",
        "Реализовать: \n",
        "- инициализацию элементов;\n",
        "- матрицы случайными числами, вывод транспонированной\n",
        "- матрицы, нахождение среднего арифметического всех элементов, а\n",
        "- также вывод информации об объекте"
      ]
    },
    {
      "cell_type": "markdown",
      "metadata": {
        "id": "nvkT7lVbGG_l"
      },
      "source": [
        "## Решение"
      ]
    },
    {
      "cell_type": "markdown",
      "metadata": {
        "id": "AGeDnC-JGLBz"
      },
      "source": [
        "Решение данной задачи состоит из следующих этапов:\n",
        "проектирование класса; 2) объявление класса (кодирование); 3)\n",
        "\n",
        "1.   проектирование класса\n",
        "2.   объявление класса (кодирование)\n",
        "3.   демонстрация использования класса (создание объекта и вызов методов)\n",
        "\n",
        "Проектирование класса можно производить с использованием любого средства проектирования (UML-редактор, онлайн средства построения диаграмм ([https://www.draw.io](https://www.draw.io)), обычный графический редактор). На рисунке показана диаграмма классов для спроектированного класса Par.\n"
      ]
    },
    {
      "cell_type": "markdown",
      "metadata": {
        "id": "pwmyfJoJb5sg"
      },
      "source": [
        "На данном этапе проектирование завершается. Переходим к объявлению класса `Par`."
      ]
    },
    {
      "cell_type": "code",
      "execution_count": 1,
      "metadata": {
        "id": "THyFl2qOJTzi"
      },
      "outputs": [],
      "source": [
        "import random\n",
        "\n",
        "class Matrix:\n",
        "    def __init__(self, rows, cols):\n",
        "        if rows <= 0 or cols <= 0:\n",
        "            raise ValueError(\"Rows and cols must be positive numbers\")\n",
        "        self.rows = rows\n",
        "        self.cols = cols\n",
        "        self.matrix = [[random.randint(1, 100) for _ in range(cols)] for _ in range(rows)]\n",
        "\n",
        "    def __str__(self):\n",
        "        return \"\\n\".join(\"\\t\".join(map(str, row)) for row in self.matrix)\n",
        "\n",
        "    def transpose(self):\n",
        "        \"\"\"Транспонирование матрицы\"\"\"\n",
        "        return [[self.matrix[j][i] for j in range(self.rows)] for i in range(self.cols)]\n",
        "\n",
        "    def average(self):\n",
        "        \"\"\"Нахождение среднего арифметического всех элементов\"\"\"\n",
        "        return sum(sum(row) for row in self.matrix) / (self.rows * self.cols)\n",
        "\n",
        "    def info(self):\n",
        "        \"\"\"Вывод информации о матрице\"\"\"\n",
        "        print(f\"Матрица {self.rows}x{self.cols}\")\n",
        "        print(\"Элементы матрицы:\")\n",
        "        print(self)\n",
        "        print(f\"\\nТранспонированная матрица:\")\n",
        "        print(self.transpose())\n",
        "        print(f\"\\nСреднее арифметическое: {self.average():.2f}\")"
      ]
    },
    {
      "cell_type": "markdown",
      "metadata": {
        "id": "tKquyHrdMFWB"
      },
      "source": [
        "Описание класса:\n",
        "\n",
        "Конструктор __init__:\n",
        "- Принимает размеры матрицы (rows, cols).\n",
        "- Проверяет корректность размеров.\n",
        "- Инициализирует матрицу случайными числами от 1 до 100.\n",
        "\n",
        "Метод __str__:\n",
        "- Возвращает строковое представление матрицы в удобном формате.\n",
        "\n",
        "Метод transpose:\n",
        "- Транспонирует матрицу (меняет строки на столбцы).\n",
        "\n",
        "Метод average:\n",
        "- Вычисляет среднее арифметическое всех элементов матрицы.\n",
        "\n",
        "Метод info:\n",
        "- Выводит информацию о матрице: размеры, элементы, транспонированную матрицу и среднее арифметическое."
      ]
    },
    {
      "cell_type": "markdown",
      "metadata": {
        "id": "RGlwZaXQrAfd"
      },
      "source": [
        "Использование разработанного типа данных `Par`"
      ]
    },
    {
      "cell_type": "code",
      "execution_count": 19,
      "metadata": {
        "colab": {
          "base_uri": "https://localhost:8080/"
        },
        "id": "F6XZwISDLl-M",
        "outputId": "b275b6e7-efe6-44d7-ef20-99575f367a65"
      },
      "outputs": [
        {
          "name": "stdout",
          "output_type": "stream",
          "text": [
            "Исходная матрица:\n",
            "89\t74\t65\t33\n",
            "66\t10\t37\t30\n",
            "47\t83\t60\t58\n",
            "\n",
            "Информация о матрице:\n",
            "Матрица 3x4\n",
            "Элементы матрицы:\n",
            "89\t74\t65\t33\n",
            "66\t10\t37\t30\n",
            "47\t83\t60\t58\n",
            "\n",
            "Транспонированная матрица:\n",
            "[[89, 66, 47], [74, 10, 83], [65, 37, 60], [33, 30, 58]]\n",
            "\n",
            "Среднее арифметическое: 54.33\n"
          ]
        }
      ],
      "source": [
        "\n",
        "m = Matrix(3, 4)\n",
        "print(\"Исходная матрица:\")\n",
        "print(m)\n",
        "print(\"\\nИнформация о матрице:\")\n",
        "m.info()"
      ]
    },
    {
      "cell_type": "markdown",
      "metadata": {
        "id": "JRIh2qs3mz4D"
      },
      "source": [
        "# Контрольные вопросы"
      ]
    },
    {
      "cell_type": "markdown",
      "metadata": {},
      "source": [
        "### Вопрос 1.\n",
        "\n",
        "Класс — это шаблон или структура, которая определяет свойства и методы, которые будут использоваться для создания объектов (экземпляров) этого класса. Класс описывает, какими данными будет обладать объект и какие действия он может выполнять."
      ]
    },
    {
      "cell_type": "markdown",
      "metadata": {},
      "source": [
        "### Вопрос 2."
      ]
    },
    {
      "cell_type": "code",
      "execution_count": 25,
      "metadata": {},
      "outputs": [
        {
          "name": "stdout",
          "output_type": "stream",
          "text": [
            "3\n",
            "4\n"
          ]
        }
      ],
      "source": [
        "class Matrix:\n",
        "    def __init__(self, rows, cols):\n",
        "        if rows <= 0 or cols <= 0:\n",
        "            raise ValueError(\"Rows and cols must be positive numbers\")\n",
        "        self.rows = rows\n",
        "        self.cols = cols\n",
        "        self.matrix = [[random.randint(1, 100) for _ in range(cols)] for _ in range(rows)]\n",
        "\n",
        "m = Matrix(3, 4)\n",
        "print(m.rows)\n",
        "print(m.cols)"
      ]
    },
    {
      "cell_type": "markdown",
      "metadata": {},
      "source": [
        "Назначение метода __init__: этот метод автоматически вызывается при создании нового экземпляра класса. Он используется для инициализации атрибутов объекта, то есть для присвоения начальных значений свойствам объекта. Первым параметром метода всегда является self, который ссылается на только что созданный экземпляр класса."
      ]
    },
    {
      "cell_type": "markdown",
      "metadata": {},
      "source": [
        "### Вопрос 3.\n",
        "\n",
        "Статические методы и методы класса:\n",
        "\n",
        "- Статические методы не принимают self или cls в качестве первого аргумента и не зависят от конкретного экземпляра или класса. Они используются для работы с данными, которые не связаны с состоянием объекта или класса.\n",
        "- Методы класса принимают cls в качестве первого аргумента и могут изменять состояние самого класса, а не его экземпляров."
      ]
    },
    {
      "cell_type": "markdown",
      "metadata": {},
      "source": [
        "### Вопрос 4.\n",
        "\n",
        "В методах класса self используется для ссылки на текущий экземпляр объекта. Это позволяет методам работать с атрибутами конкретного экземпляра, а не с общими атрибутами класса."
      ]
    },
    {
      "cell_type": "markdown",
      "metadata": {},
      "source": [
        "### Вопрос 5.\n",
        "\n",
        "Внутри одного класса можно объявить только один метод __init__. Это связано с тем, что этот метод является специальным и автоматически вызывается при создании нового объекта, поэтому его поведение должно быть единым для всех экземпляров класса."
      ]
    }
  ],
  "metadata": {
    "colab": {
      "authorship_tag": "ABX9TyN+6BYDpXUWFTLexg3d1Nl6",
      "include_colab_link": true,
      "provenance": []
    },
    "kernelspec": {
      "display_name": "Python 3",
      "name": "python3"
    },
    "language_info": {
      "codemirror_mode": {
        "name": "ipython",
        "version": 3
      },
      "file_extension": ".py",
      "mimetype": "text/x-python",
      "name": "python",
      "nbconvert_exporter": "python",
      "pygments_lexer": "ipython3",
      "version": "3.13.4"
    }
  },
  "nbformat": 4,
  "nbformat_minor": 0
}
