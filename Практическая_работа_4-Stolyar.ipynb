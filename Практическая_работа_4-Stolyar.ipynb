{
  "cells": [
    {
      "cell_type": "markdown",
      "metadata": {
        "colab_type": "text",
        "id": "view-in-github"
      },
      "source": [
        "<a href=\"https://colab.research.google.com/github/enikolaev/AI_in_biotech/blob/main/%D0%9F%D1%80%D0%B0%D0%BA%D1%82%D0%B8%D1%87%D0%B5%D1%81%D0%BA%D0%B0%D1%8F_%D1%80%D0%B0%D0%B1%D0%BE%D1%82%D0%B0_4.ipynb\" target=\"_parent\"><img src=\"https://colab.research.google.com/assets/colab-badge.svg\" alt=\"Open In Colab\"/></a>"
      ]
    },
    {
      "cell_type": "markdown",
      "metadata": {
        "id": "C3DZeo7xi2HL"
      },
      "source": [
        "# Практическая работа 4. Данные в формате CSV"
      ]
    },
    {
      "cell_type": "markdown",
      "metadata": {
        "id": "n7jQfObbnO6_"
      },
      "source": [
        "ФИО: **Столяр Артем Максимович**\n",
        "\n",
        "Группа: **ПИН-Б-З-22-1**\n",
        "\n",
        "### Задание не выполнено по причине того что нужная папка в github с исходниками CSV удалена"
      ]
    },
    {
      "cell_type": "markdown",
      "metadata": {},
      "source": [
        "## Ответы на контрольные вопросы"
      ]
    },
    {
      "cell_type": "markdown",
      "metadata": {},
      "source": [
        "### Вопрос 1."
      ]
    },
    {
      "cell_type": "code",
      "execution_count": 1,
      "metadata": {},
      "outputs": [
        {
          "name": "stdout",
          "output_type": "stream",
          "text": [
            "Сумма элементов списка: 290\n"
          ]
        }
      ],
      "source": [
        "p = [10, 100, 34, 56, 45, 45]\n",
        "sum_p = sum(p)\n",
        "print(f\"Сумма элементов списка: {sum_p}\")"
      ]
    },
    {
      "cell_type": "markdown",
      "metadata": {},
      "source": [
        "### Вопрос 2."
      ]
    },
    {
      "cell_type": "code",
      "execution_count": 2,
      "metadata": {},
      "outputs": [
        {
          "name": "stdout",
          "output_type": "stream",
          "text": [
            "Количество элементов в списке: 6\n"
          ]
        }
      ],
      "source": [
        "p = [10, 100, 34, 56, 45, 45]\n",
        "count = len(p)\n",
        "print(f\"Количество элементов в списке: {count}\")"
      ]
    },
    {
      "cell_type": "markdown",
      "metadata": {},
      "source": [
        "### Вопрос 3."
      ]
    },
    {
      "cell_type": "code",
      "execution_count": 3,
      "metadata": {},
      "outputs": [
        {
          "name": "stdout",
          "output_type": "stream",
          "text": [
            "Сумма элементов, кратных 7: 112\n"
          ]
        }
      ],
      "source": [
        "p = [10, 100, 35, 34, 56, 45, 45, 21]\n",
        "sum_multiple_7 = sum(x for x in p if x % 7 == 0)\n",
        "print(f\"Сумма элементов, кратных 7: {sum_multiple_7}\")"
      ]
    },
    {
      "cell_type": "markdown",
      "metadata": {},
      "source": [
        "### Вопрос 4."
      ]
    },
    {
      "cell_type": "code",
      "execution_count": 14,
      "metadata": {},
      "outputs": [
        {
          "name": "stdout",
          "output_type": "stream",
          "text": [
            "[12, 34]\n"
          ]
        }
      ],
      "source": [
        "p = {4: 10, 12: 100, 35: 3, 34: 56, 56: 11, 45: 'abc'}\n",
        "keys_above_45 = [key for key, value in p.items() if isinstance(value, (int, float)) and value > 45]\n",
        "\n",
        "print(keys_above_45)"
      ]
    },
    {
      "cell_type": "markdown",
      "metadata": {},
      "source": [
        "### Вопрос 5."
      ]
    },
    {
      "cell_type": "code",
      "execution_count": 15,
      "metadata": {},
      "outputs": [
        {
          "name": "stdout",
          "output_type": "stream",
          "text": [
            "Список квадратов чисел от 1 до 100: [1, 4, 9, 16, 25, 36, 49, 64, 81, 100, 121, 144, 169, 196, 225, 256, 289, 324, 361, 400, 441, 484, 529, 576, 625, 676, 729, 784, 841, 900, 961, 1024, 1089, 1156, 1225, 1296, 1369, 1444, 1521, 1600, 1681, 1764, 1849, 1936, 2025, 2116, 2209, 2304, 2401, 2500, 2601, 2704, 2809, 2916, 3025, 3136, 3249, 3364, 3481, 3600, 3721, 3844, 3969, 4096, 4225, 4356, 4489, 4624, 4761, 4900, 5041, 5184, 5329, 5476, 5625, 5776, 5929, 6084, 6241, 6400, 6561, 6724, 6889, 7056, 7225, 7396, 7569, 7744, 7921, 8100, 8281, 8464, 8649, 8836, 9025, 9216, 9409, 9604, 9801, 10000]\n"
          ]
        }
      ],
      "source": [
        "squares = [x**2 for x in range(1, 101)]\n",
        "print(f\"Список квадратов чисел от 1 до 100: {squares}\")"
      ]
    },
    {
      "cell_type": "markdown",
      "metadata": {},
      "source": [
        "### Вопрос 6.\n",
        "\n",
        "CSV (Comma-Separated Values) — это текстовый файл, где значения разделены запятыми или другим разделителем (например, точкой с запятой). Структура CSV-файла включает:\\\n",
        "Заголовки столбцов (опционально)\\\n",
        "Строки данных, каждая из которых содержит значения, разделенные разделителем\\\n",
        "Последовательность действий при чтении CSV-файла:\n",
        "\n",
        "- Открыть файл с помощью функции open().\n",
        "- Использовать библиотеку csv для работы с данными"
      ]
    }
  ],
  "metadata": {
    "colab": {
      "authorship_tag": "ABX9TyN0dGKqovpsgH2rPVsjgMFT",
      "include_colab_link": true,
      "provenance": [],
      "toc_visible": true
    },
    "kernelspec": {
      "display_name": "Python 3",
      "name": "python3"
    },
    "language_info": {
      "codemirror_mode": {
        "name": "ipython",
        "version": 3
      },
      "file_extension": ".py",
      "mimetype": "text/x-python",
      "name": "python",
      "nbconvert_exporter": "python",
      "pygments_lexer": "ipython3",
      "version": "3.13.4"
    }
  },
  "nbformat": 4,
  "nbformat_minor": 0
}
