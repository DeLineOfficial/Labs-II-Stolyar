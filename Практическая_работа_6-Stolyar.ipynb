{
  "cells": [
    {
      "cell_type": "markdown",
      "metadata": {
        "colab_type": "text",
        "id": "view-in-github"
      },
      "source": [
        "<a href=\"https://colab.research.google.com/github/enikolaev/AI_in_biotech/blob/main/%D0%9F%D1%80%D0%B0%D0%BA%D1%82%D0%B8%D1%87%D0%B5%D1%81%D0%BA%D0%B0%D1%8F_%D1%80%D0%B0%D0%B1%D0%BE%D1%82%D0%B0_6.ipynb\" target=\"_parent\"><img src=\"https://colab.research.google.com/assets/colab-badge.svg\" alt=\"Open In Colab\"/></a>"
      ]
    },
    {
      "cell_type": "markdown",
      "metadata": {
        "id": "C3DZeo7xi2HL"
      },
      "source": [
        "# Практическая работа 6. Работа с изображениями"
      ]
    },
    {
      "cell_type": "markdown",
      "metadata": {
        "id": "8wIyzax9q7JF"
      },
      "source": [
        "## Задание"
      ]
    },
    {
      "cell_type": "markdown",
      "metadata": {
        "id": "A1UMdzQGjFix"
      },
      "source": [
        "Загрузить изображение и продемонстрировать основные возможности библиотеки Pillow"
      ]
    },
    {
      "cell_type": "markdown",
      "metadata": {
        "id": "RGlwZaXQrAfd"
      },
      "source": [
        "## Анализ задания, получение данных"
      ]
    },
    {
      "cell_type": "markdown",
      "metadata": {
        "id": "hupq--jq0PA3"
      },
      "source": [
        "Можно скопировать и поместить файл с данными любым удобным способом"
      ]
    },
    {
      "cell_type": "markdown",
      "metadata": {
        "id": "YlvR9gr-9qJY"
      },
      "source": [
        "Импортирование модуля `PIL`. После импортирования модуля откроем файл и загрузим изображение в память"
      ]
    },
    {
      "cell_type": "code",
      "execution_count": 9,
      "metadata": {
        "colab": {
          "base_uri": "https://localhost:8080/",
          "height": 415
        },
        "id": "GzShFx3l0l49",
        "outputId": "acb8297e-6c09-43bf-d6d5-4fb9d6dfbc88"
      },
      "outputs": [
        {
          "name": "stdout",
          "output_type": "stream",
          "text": [
            "<class 'module'>\n"
          ]
        }
      ],
      "source": [
        "from PIL import Image\n",
        "\n",
        "print(type(Image))\n",
        "\n",
        "with Image.open('assets/image.jpg') as img:\n",
        "  img.load()\n",
        "\n",
        "img.show()"
      ]
    },
    {
      "cell_type": "markdown",
      "metadata": {
        "id": "V4pLEcXR94ct"
      },
      "source": [
        "## Измененние размера"
      ]
    },
    {
      "cell_type": "markdown",
      "metadata": {
        "id": "7F4tUxgX1dwL"
      },
      "source": [
        "Исследуем простейшие функции для изменения размера изображения:\n",
        "* crop - обрезка изображения\n",
        "* resize - приведение размера изображения к новым ширине и высоте\n",
        "* reduce - масштабирование пропорционально коэффициенту\n",
        "* thumbnail - изменяет сам объект изображения, не создает копию. Приводит к созданию миниатюры"
      ]
    },
    {
      "cell_type": "code",
      "execution_count": null,
      "metadata": {
        "colab": {
          "base_uri": "https://localhost:8080/"
        },
        "id": "WY0RV2BG7-ep",
        "outputId": "fff84f3b-229f-43d8-e499-c30dc608a72d"
      },
      "outputs": [
        {
          "name": "stdout",
          "output_type": "stream",
          "text": [
            "(690, 380)\n"
          ]
        }
      ],
      "source": [
        "print(img.size)"
      ]
    },
    {
      "cell_type": "code",
      "execution_count": 10,
      "metadata": {
        "colab": {
          "base_uri": "https://localhost:8080/",
          "height": 357
        },
        "id": "MfetHR3Jfs9W",
        "outputId": "71e05e5d-4416-4835-8a47-8e71f62f41c7"
      },
      "outputs": [],
      "source": [
        "crop_img = img.crop((200, 10, 650, 350))\n",
        "crop_img.show()"
      ]
    },
    {
      "cell_type": "code",
      "execution_count": 11,
      "metadata": {
        "colab": {
          "base_uri": "https://localhost:8080/",
          "height": 143
        },
        "id": "2cjhX1fQiQFO",
        "outputId": "66ec6b9e-42d6-4286-c316-2e0a9aa23b21"
      },
      "outputs": [],
      "source": [
        "nw, nh = img.width // 3, img.height // 3\n",
        "resize_img = img.resize((nw, nh))\n",
        "resize_img.show()"
      ]
    },
    {
      "cell_type": "markdown",
      "metadata": {
        "id": "aQMsLolRKhLw"
      },
      "source": [
        "Для сохранения изображения используется функция `save`"
      ]
    },
    {
      "cell_type": "code",
      "execution_count": null,
      "metadata": {
        "id": "pUQzEyQt9RNZ"
      },
      "outputs": [
        {
          "name": "stdout",
          "output_type": "stream",
          "text": [
            "<PIL.Image.Image image mode=RGB size=201x149 at 0x213B83D2990>\n"
          ]
        }
      ],
      "source": [
        "resize_img.save('assets/resized.png')"
      ]
    },
    {
      "cell_type": "markdown",
      "metadata": {
        "id": "Pn7EVXUg_tpY"
      },
      "source": [
        "## Слои, форматы, градации"
      ]
    },
    {
      "cell_type": "markdown",
      "metadata": {
        "id": "_le-9-gALOXn"
      },
      "source": [
        "Для конвертации изображения используется функция convert(mode). Возможные значения mode:\n",
        "* 1 (1-bit pixels, black and white, stored with one pixel per byte)\n",
        "\n",
        "* L (8-bit pixels, black and white)\n",
        "\n",
        "* P (8-bit pixels, mapped to any other mode using a color palette)\n",
        "\n",
        "* RGB (3x8-bit pixels, true color)\n",
        "\n",
        "* RGBA (4x8-bit pixels, true color with transparency mask)\n",
        "\n",
        "* CMYK (4x8-bit pixels, color separation)\n",
        "\n",
        "* YCbCr (3x8-bit pixels, color video format)\n",
        "\n",
        "* LAB (3x8-bit pixels, the L*a*b color space)\n",
        "\n",
        "* HSV (3x8-bit pixels, Hue, Saturation, Value color space)\n",
        "\n",
        "* I (32-bit signed integer pixels)\n",
        "\n",
        "* F (32-bit floating point pixels)"
      ]
    },
    {
      "cell_type": "code",
      "execution_count": 33,
      "metadata": {
        "colab": {
          "base_uri": "https://localhost:8080/",
          "height": 432
        },
        "id": "noV35UHJ_HgC",
        "outputId": "b51fd582-df08-4512-8142-d06f790e25fa"
      },
      "outputs": [
        {
          "name": "stdout",
          "output_type": "stream",
          "text": [
            "('R', 'G', 'B')\n",
            "('L',)\n"
          ]
        }
      ],
      "source": [
        "print(img.getbands())\n",
        "cmyk_img = img.convert('L')\n",
        "print(cmyk_img.getbands())\n",
        "cmyk_img.show()"
      ]
    },
    {
      "cell_type": "markdown",
      "metadata": {
        "id": "JRIh2qs3mz4D"
      },
      "source": [
        "# Контрольные вопросы"
      ]
    },
    {
      "cell_type": "markdown",
      "metadata": {},
      "source": [
        "### Вопрос 1.\n",
        "\n",
        "В библиотеке Pillow доступны следующие функции для трансформации изображений:\n",
        "\n",
        "- Вращение: `image.rotate(angle, expand=True)` — поворачивает изображение на заданный угол в градусах. Параметр expand позволяет расширить изображение, чтобы избежать обрезки.\n",
        "- Обрезка: `image.crop((left, top, right, bottom))` — вырезает часть изображения, задавая координаты верхнего левого и нижнего правого угла.\n",
        "- Масштабирование: `image.resize((width, height))` — изменяет размеры изображения.\n",
        "- Отражение: `image.transpose(method)` — отражает изображение по горизонтали или вертикали.\n",
        "- Перекодирование: `image.convert(mode)` — изменяет режим изображения (например, из RGB в LUM)."
      ]
    },
    {
      "cell_type": "markdown",
      "metadata": {},
      "source": [
        "### Вопрос 2.\n",
        "\n",
        "Метод convert() используется для изменения режима (формата) изображения. Это может быть полезно, когда необходимо:\n",
        "\n",
        "- Преобразовать цветное изображение в чёрно-белое (режим L).\n",
        "- Изменить глубину цвета.\n",
        "- Привести изображение к нужному формату для дальнейшей обработки."
      ]
    },
    {
      "cell_type": "markdown",
      "metadata": {},
      "source": [
        "### Вопрос 3.\n",
        "\n",
        "Фильтрация изображений — это процесс применения различных алгоритмов для обработки пикселей с целью достижения определённого визуального эффекта.\n",
        "\n",
        "Примеры применения:\n",
        "\n",
        "- Размытие: сглаживание резких деталей.\n",
        "- Резкость: усиление контраста и чёткости.\n",
        "- Гауссово размытие: используется для удаления шума.\n",
        "- Пороговая фильтрация: бинаризация изображения для выделения контуров.\n",
        "- Эффект мозаики: создание мозаичного изображения."
      ]
    },
    {
      "cell_type": "markdown",
      "metadata": {},
      "source": [
        "### Вопрос 4.\n",
        "\n",
        "RGB — это аддитивная цветовая модель, в которой цвета создаются путём смешивания красного, зелёного и синего света в различных пропорциях. Каждый пиксель изображения представлен тремя значениями (R, G, B), которые определяют интенсивность каждого цвета."
      ]
    },
    {
      "cell_type": "markdown",
      "metadata": {},
      "source": [
        "### Вопрос 5.\n",
        "\n",
        "- Растр — это сетка пикселей, формирующая изображение.\n",
        "- Формат изображения — способ организации и хранения данных изображения (JPEG, PNG, BMP и т. д.).\n",
        "- Палитра — набор цветов, используемых в изображении (особенно актуально для индексированных изображений).\n",
        "- Глубина — количество бит, используемых для представления цвета каждого пикселя (например, 8-битный цвет, 24-битный цвет).\n",
        "- Разрешение изображения — количество пикселей на единицу длины (например, dpi — dots per inch) или общее количество пикселей в изображении (ширина × высота)."
      ]
    }
  ],
  "metadata": {
    "colab": {
      "authorship_tag": "ABX9TyPRXedXAzBN+QiCjLxZR6by",
      "include_colab_link": true,
      "provenance": []
    },
    "kernelspec": {
      "display_name": "Python 3",
      "name": "python3"
    },
    "language_info": {
      "codemirror_mode": {
        "name": "ipython",
        "version": 3
      },
      "file_extension": ".py",
      "mimetype": "text/x-python",
      "name": "python",
      "nbconvert_exporter": "python",
      "pygments_lexer": "ipython3",
      "version": "3.13.4"
    }
  },
  "nbformat": 4,
  "nbformat_minor": 0
}
