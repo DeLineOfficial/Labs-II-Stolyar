{
  "cells": [
    {
      "cell_type": "markdown",
      "metadata": {
        "colab_type": "text",
        "id": "view-in-github"
      },
      "source": [
        "<a href=\"https://colab.research.google.com/github/enikolaev/AI_in_biotech/blob/main/%D0%9F%D1%80%D0%B0%D0%BA%D1%82%D0%B8%D1%87%D0%B5%D1%81%D0%BA%D0%B0%D1%8F_%D1%80%D0%B0%D0%B1%D0%BE%D1%82%D0%B0_1.ipynb\" target=\"_parent\"><img src=\"https://colab.research.google.com/assets/colab-badge.svg\" alt=\"Open In Colab\"/></a>"
      ]
    },
    {
      "cell_type": "markdown",
      "metadata": {
        "id": "C3DZeo7xi2HL"
      },
      "source": [
        "# Практическая работа 1. Простейший скрипт Python"
      ]
    },
    {
      "cell_type": "markdown",
      "metadata": {
        "id": "8wIyzax9q7JF"
      },
      "source": [
        "## Задание"
      ]
    },
    {
      "cell_type": "markdown",
      "metadata": {
        "id": "A1UMdzQGjFix"
      },
      "source": [
        "Нужно выводить следующую информацию:\n",
        "\n",
        "– ФИО студента;\\\n",
        "– группа студента и шифр специальности;\\\n",
        "– перечень языков программирования и ИТ-технологий, которые студент считает наиболее перспективными для изучения;\\\n",
        "– краткое описание личных увлечений, хобби, интересов.\n",
        "\n",
        "Так же необходимо вычислить значение выражения:\n",
        "\n",
        "### $t=\\frac{35}{a}*z+z*a-\\frac{a+Et}{4}$\n",
        "\n",
        "Для каждой переменной необходимо вывести ее значение и тип."
      ]
    },
    {
      "cell_type": "markdown",
      "metadata": {
        "id": "RGlwZaXQrAfd"
      },
      "source": [
        "## Анализ выражения и определение переменных"
      ]
    },
    {
      "cell_type": "markdown",
      "metadata": {},
      "source": [
        "Вывод информации"
      ]
    },
    {
      "cell_type": "code",
      "execution_count": null,
      "metadata": {},
      "outputs": [
        {
          "name": "stdout",
          "output_type": "stream",
          "text": [
            "ФИО: Столяр Артем Максимович\n",
            "Группа: ПИН-Б-З-22-1\n",
            "Перспективные языки по моему мнению: ['JavaScript', 'C#', 'C++', 'Python', 'GO']\n",
            "Хобби: Разработка, путешествия, компьютерные игры\n"
          ]
        }
      ],
      "source": [
        "fio = \"Столяр Артем Максимович\"\n",
        "group = \"ПИН-Б-З-22-1, 09.03.03\"\n",
        "lang = [\"JavaScript\", \"C#\", \"C++\", \"Python\", \"GO\"]\n",
        "hobby = \"Разработка, путешествия, компьютерные игры\"\n",
        "\n",
        "print(f\"ФИО: {fio}\")\n",
        "print(f\"Группа: {group}\")\n",
        "print(f\"Перспективные языки по моему мнению: {lang}\")\n",
        "print(f\"Хобби: {hobby}\")"
      ]
    },
    {
      "cell_type": "markdown",
      "metadata": {
        "id": "dusmGf0PoHeU"
      },
      "source": [
        "Проанализируем выражение и определим переменные, которые потребуются для выполнения задания. Независимые переменные: $a, z, Et$. Переменная, которая должна быть вычислена на основе независимых: $Z$."
      ]
    },
    {
      "cell_type": "code",
      "execution_count": 16,
      "metadata": {
        "colab": {
          "base_uri": "https://localhost:8080/"
        },
        "id": "GRcewQyGh7dD",
        "outputId": "6df1105a-8157-4a3b-e4c7-b46cd495f94d"
      },
      "outputs": [
        {
          "name": "stdout",
          "output_type": "stream",
          "text": [
            "a = 74\n",
            "z = 2\n",
            "Et = 1\n"
          ]
        }
      ],
      "source": [
        "a = int(input(\"Введите число в переменную - 'a'\"))\n",
        "z = int(input(\"Введите число в переменную - 'z'\"))\n",
        "Et = int(input(\"Введите число в переменную - 'Et'\"))\n",
        "\n",
        "print(f\"a = {a}\")\n",
        "print(f\"z = {z}\")\n",
        "print(f\"Et = {Et}\")"
      ]
    },
    {
      "cell_type": "markdown",
      "metadata": {
        "id": "JCG1FflCrJRE"
      },
      "source": [
        "## Вычисление выражение, печать результатов"
      ]
    },
    {
      "cell_type": "markdown",
      "metadata": {
        "id": "9ky-Ji8ppVb9"
      },
      "source": [
        "Код для вычисления значения выражения $t$:"
      ]
    },
    {
      "cell_type": "code",
      "execution_count": 17,
      "metadata": {
        "colab": {
          "base_uri": "https://localhost:8080/"
        },
        "id": "v5SpmCokphuJ",
        "outputId": "73c75de3-9eaf-4721-c3ea-d373d675885f"
      },
      "outputs": [
        {
          "name": "stdout",
          "output_type": "stream",
          "text": [
            "t = 130.19594594594594\n"
          ]
        }
      ],
      "source": [
        "t = ((35/a)*z)+((z*a)-((a+Et)/4))\n",
        "\n",
        "print(f\"t = {t}\")"
      ]
    },
    {
      "cell_type": "markdown",
      "metadata": {},
      "source": [
        "## Ответы на контрольные вопросы"
      ]
    },
    {
      "cell_type": "markdown",
      "metadata": {},
      "source": [
        "### Вопрос 1.\n",
        "\n",
        "Интерпретируемый язык обрабатывает код построчно во время выполнения программы. Программа выполняется сразу, но медленно, так как каждая инструкция переводится в машинный код отдельно.Компилируемый язык переводит весь исходный код в машинный код заранее, перед выполнением программы. Это делает программу быстрее, но требует отдельного этапа компиляции.\n",
        "\n",
        "### Вопрос 2.\n",
        "\n",
        "Компилируемые языки программирования:\n",
        "C\n",
        "C++\n",
        "Rust\n",
        "Go\n",
        "Swift\n",
        "Java (после компиляции в байт-код)\n",
        "C#\n",
        "\n",
        "### Вопрос 3.\n",
        "\n",
        "Интерпретируемые языки программирования:\n",
        "Python\n",
        "JavaScript\n",
        "PHP\n",
        "Ruby\n",
        "Perl\n",
        "MATLAB\n",
        "R\n",
        "\n",
        "### Вопрос 4.\n",
        "\n",
        "Объявление переменных в Python:\n",
        "Просто присваивание значения: переменная = значение\n",
        "Не требуется указывать тип\n",
        "Пример: x = 10 или name = \"Иван\"\n",
        "\n",
        "### Вопрос 5.\n",
        "\n",
        "Определение типа переменной:\n",
        "Функция type()\n",
        "Пример: type(переменная)\n",
        "\n",
        "### Вопрос 6.\n",
        "\n",
        "Возвращает объект типа данных\n",
        "Функция print():\n",
        "Используется для вывода информации на экран\n",
        "Может принимать несколько аргументов через запятую\n",
        "Пример: print(\"Привет, мир!\")\n",
        "\n",
        "### Вопрос 7.\n",
        "\n",
        "Вычисление модуля:\n",
        "Встроенное ключевое слово abs()\n",
        "Не требует подключения дополнительных библиотек\n",
        "Пример: abs(-5) вернет 5\n",
        "\n",
        "### Вопрос 8.\n",
        "\n",
        "Недопустимые идентификаторы:\n",
        "create-var (дефис запрещен)\n",
        "4perem (начинается с цифры)\n",
        "System.Double (точка не допускается)\n",
        "int, string (зарезервированные слова)\n",
        "\n",
        "### Вопрос 9.\n",
        "Основные типы в Python:\n",
        "Числа:\n",
        "int (целые числа)\n",
        "float (вещественные числа)\n",
        "complex (комплексные числа)\n",
        "Последовательности:\n",
        "str (строки)\n",
        "list (списки)\n",
        "tuple (кортежи)\n",
        "Коллекции:\n",
        "set (множества)\n",
        "dict (словари)\n",
        "Логический тип:\n",
        "bool (True/False)\n",
        "Специальный тип:\n",
        "NoneType (None)"
      ]
    }
  ],
  "metadata": {
    "colab": {
      "authorship_tag": "ABX9TyMpm8jqq5R9Fbe38x2FWjJE",
      "include_colab_link": true,
      "provenance": [],
      "toc_visible": true
    },
    "kernelspec": {
      "display_name": "Python 3",
      "name": "python3"
    },
    "language_info": {
      "codemirror_mode": {
        "name": "ipython",
        "version": 3
      },
      "file_extension": ".py",
      "mimetype": "text/x-python",
      "name": "python",
      "nbconvert_exporter": "python",
      "pygments_lexer": "ipython3",
      "version": "3.13.4"
    }
  },
  "nbformat": 4,
  "nbformat_minor": 0
}
