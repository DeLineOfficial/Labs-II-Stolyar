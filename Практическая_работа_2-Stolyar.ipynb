{
  "cells": [
    {
      "cell_type": "markdown",
      "metadata": {
        "colab_type": "text",
        "id": "view-in-github"
      },
      "source": [
        "<a href=\"https://colab.research.google.com/github/enikolaev/AI_in_biotech/blob/main/%D0%9F%D1%80%D0%B0%D0%BA%D1%82%D0%B8%D1%87%D0%B5%D1%81%D0%BA%D0%B0%D1%8F_%D1%80%D0%B0%D0%B1%D0%BE%D1%82%D0%B0_2.ipynb\" target=\"_parent\"><img src=\"https://colab.research.google.com/assets/colab-badge.svg\" alt=\"Open In Colab\"/></a>"
      ]
    },
    {
      "cell_type": "markdown",
      "metadata": {
        "id": "C3DZeo7xi2HL"
      },
      "source": [
        "# Практическая работа 2. Основные конструкции языка"
      ]
    },
    {
      "cell_type": "markdown",
      "metadata": {
        "id": "8wIyzax9q7JF"
      },
      "source": [
        "## Задание"
      ]
    },
    {
      "cell_type": "markdown",
      "metadata": {
        "id": "A1UMdzQGjFix"
      },
      "source": [
        "Напишите скрипт для подсчета количества пар рядом стоящих\n",
        "целочисленных элементов в списке, состоящем из элементов\n",
        "произвольного типа. В каждой паре второй элемент должен быть\n",
        "больше первого."
      ]
    },
    {
      "cell_type": "markdown",
      "metadata": {
        "id": "RGlwZaXQrAfd"
      },
      "source": [
        "## Анализ задания, изучение возможностей языка"
      ]
    },
    {
      "cell_type": "markdown",
      "metadata": {
        "id": "dusmGf0PoHeU"
      },
      "source": [
        "Чаще всего данные получают из файлов (работа с которыми будет рассмотрена позже). В данном рпактическом задании необходимо использовать список, определяемый программно. Список в Python - это коллекция элементов **произвольного** типа, разделенных запятыми. Объявление списка можно выполнить следующим образом:"
      ]
    },
    {
      "cell_type": "code",
      "execution_count": 4,
      "metadata": {
        "colab": {
          "base_uri": "https://localhost:8080/"
        },
        "id": "GRcewQyGh7dD",
        "outputId": "0d3a501a-497a-4db7-a79a-78d1fc2e89a0"
      },
      "outputs": [
        {
          "name": "stdout",
          "output_type": "stream",
          "text": [
            "[3, 5, 'text', 2, 8, 4, 7, 10.5, 1, 6, 9]\n"
          ]
        }
      ],
      "source": [
        "list = [3, 5, \"text\", 2, 8, 4, 7, 10.5, 1, 6, 9]\n",
        "print(list)"
      ]
    },
    {
      "cell_type": "markdown",
      "metadata": {
        "id": "hupq--jq0PA3"
      },
      "source": [
        "К элементам списка можно обращаться, указывая его номер. Данная операция называется индексацией и обозначается как `[]`. Номер элемента - его индекс, указывается в квадратных скобках. При этом индексация начинается с нуля."
      ]
    },
    {
      "cell_type": "code",
      "execution_count": 6,
      "metadata": {
        "colab": {
          "base_uri": "https://localhost:8080/"
        },
        "id": "GzShFx3l0l49",
        "outputId": "0968dbd5-6966-45bd-9f41-495493394ae1"
      },
      "outputs": [
        {
          "name": "stdout",
          "output_type": "stream",
          "text": [
            "0-й элемент списка:  | 3 | <class 'int'>\n",
            "1-й элемент списка:  | text | <class 'str'>\n",
            "5-й элемент списка:  | 4 | <class 'int'>\n",
            "6-й элемент списка:  | 7 | <class 'int'>\n",
            "7-й элемент списка:  | 10.5 | <class 'float'>\n",
            "8-й элемент списка:  | 1 | <class 'int'>\n"
          ]
        }
      ],
      "source": [
        "print('0-й элемент списка: ', list[0], type(list[0]), sep=' | ' )\n",
        "print('1-й элемент списка: ', list[2], type(list[2]), sep=' | ' )\n",
        "k=5\n",
        "print('%d-й элемент списка: ' % k, list[k], type(list[k]), sep=' | ' )\n",
        "k=6\n",
        "print('%d-й элемент списка: ' % k, list[k], type(list[k]), sep=' | ' )\n",
        "k=7\n",
        "print('%d-й элемент списка: ' % k, list[k], type(list[k]), sep=' | ' )\n",
        "k=8\n",
        "print('%d-й элемент списка: ' % k, list[k], type(list[k]), sep=' | ' )"
      ]
    },
    {
      "cell_type": "markdown",
      "metadata": {
        "id": "7F4tUxgX1dwL"
      },
      "source": [
        "Таким образом можно сделать вывод, что в Python использовать следующие типы данных: строковый (`string`), целочисленный (`int`), вещественный (`float`) и т.д."
      ]
    },
    {
      "cell_type": "markdown",
      "metadata": {
        "id": "vq_Sojap2Crl"
      },
      "source": [
        "Кроме нумерации в списках слева-направо, действует также и нумерация справа-налево, при этом крайний правый элемент имеет индекс `-1`:"
      ]
    },
    {
      "cell_type": "code",
      "execution_count": 7,
      "metadata": {
        "colab": {
          "base_uri": "https://localhost:8080/",
          "height": 263
        },
        "id": "FkMWXzXO2Ra2",
        "outputId": "0c61ccd2-5409-4949-d1f4-c9c85ef66f51"
      },
      "outputs": [
        {
          "name": "stdout",
          "output_type": "stream",
          "text": [
            "-1-й элемент списка:  | 9 | <class 'int'>\n",
            "-2-й элемент списка:  | 6 | <class 'int'>\n",
            "-3-й элемент списка:  | 1 | <class 'int'>\n"
          ]
        },
        {
          "ename": "IndexError",
          "evalue": "list index out of range",
          "output_type": "error",
          "traceback": [
            "\u001b[31m---------------------------------------------------------------------------\u001b[39m",
            "\u001b[31mIndexError\u001b[39m                                Traceback (most recent call last)",
            "\u001b[36mCell\u001b[39m\u001b[36m \u001b[39m\u001b[32mIn[7]\u001b[39m\u001b[32m, line 8\u001b[39m\n\u001b[32m      6\u001b[39m \u001b[38;5;28mprint\u001b[39m(\u001b[33m'\u001b[39m\u001b[38;5;132;01m%d\u001b[39;00m\u001b[33m-й элемент списка: \u001b[39m\u001b[33m'\u001b[39m % k, \u001b[38;5;28mlist\u001b[39m[k], \u001b[38;5;28mtype\u001b[39m(\u001b[38;5;28mlist\u001b[39m[k]), sep=\u001b[33m'\u001b[39m\u001b[33m | \u001b[39m\u001b[33m'\u001b[39m )\n\u001b[32m      7\u001b[39m k=-\u001b[32m100\u001b[39m\n\u001b[32m----> \u001b[39m\u001b[32m8\u001b[39m \u001b[38;5;28mprint\u001b[39m(\u001b[33m'\u001b[39m\u001b[38;5;132;01m%d\u001b[39;00m\u001b[33m-й элемент списка: \u001b[39m\u001b[33m'\u001b[39m % k, \u001b[38;5;28;43mlist\u001b[39;49m\u001b[43m[\u001b[49m\u001b[43mk\u001b[49m\u001b[43m]\u001b[49m, \u001b[38;5;28mtype\u001b[39m(\u001b[38;5;28mlist\u001b[39m[k]), sep=\u001b[33m'\u001b[39m\u001b[33m | \u001b[39m\u001b[33m'\u001b[39m )\n",
            "\u001b[31mIndexError\u001b[39m: list index out of range"
          ]
        }
      ],
      "source": [
        "k=-1\n",
        "print('%d-й элемент списка: ' % k, list[k], type(list[k]), sep=' | ' )\n",
        "k=-2\n",
        "print('%d-й элемент списка: ' % k, list[k], type(list[k]), sep=' | ' )\n",
        "k=-3\n",
        "print('%d-й элемент списка: ' % k, list[k], type(list[k]), sep=' | ' )\n",
        "k=-100\n",
        "print('%d-й элемент списка: ' % k, list[k], type(list[k]), sep=' | ' )"
      ]
    },
    {
      "cell_type": "markdown",
      "metadata": {
        "id": "Xs4oLWFl2eGJ"
      },
      "source": [
        "Следует обратить внимание на ошибку, возникающую в случае использования недопустимого значения индекса."
      ]
    },
    {
      "cell_type": "markdown",
      "metadata": {
        "id": "JCG1FflCrJRE"
      },
      "source": [
        "## Решение задачи"
      ]
    },
    {
      "cell_type": "markdown",
      "metadata": {
        "id": "HD07G40-3FNH"
      },
      "source": [
        "Определим список и заполним его значениями произвольного типа:"
      ]
    },
    {
      "cell_type": "code",
      "execution_count": null,
      "metadata": {
        "id": "SHaDC2Tl2-YB"
      },
      "outputs": [],
      "source": [
        "list = [3, 5, \"text\", 2, 8, 4, 7, 10.5, 1, 6, 9]"
      ]
    },
    {
      "cell_type": "markdown",
      "metadata": {
        "id": "9ky-Ji8ppVb9"
      },
      "source": [
        "Будем перебирать элементы списка и для каждого узнаем, делится ли он на 23 или нет. В процессе обхода будем выводить информацию о ходе решения и подсчитывать количество требуемых элементов"
      ]
    },
    {
      "cell_type": "code",
      "execution_count": 9,
      "metadata": {
        "colab": {
          "base_uri": "https://localhost:8080/"
        },
        "id": "v5SpmCokphuJ",
        "outputId": "9814a929-f85c-4336-ac4f-4fbef41f1832"
      },
      "outputs": [
        {
          "name": "stdout",
          "output_type": "stream",
          "text": [
            "Найдено 5 валидных пар\n"
          ]
        }
      ],
      "source": [
        "def count_valid_pairs(input_list):\n",
        "    count = 0\n",
        "    for i in range(len(input_list) - 1):\n",
        "        current = input_list[i]\n",
        "        next_elem = input_list[i + 1]\n",
        "        \n",
        "        if isinstance(current, int) and isinstance(next_elem, int):\n",
        "            if next_elem > current:\n",
        "                count += 1\n",
        "    return count\n",
        "\n",
        "result = count_valid_pairs(list)\n",
        "print(f\"Найдено {result} валидных пар\")"
      ]
    },
    {
      "cell_type": "markdown",
      "metadata": {
        "id": "kfm23877A4o2"
      },
      "source": [
        "В данной работе были использованы функция `def`, операторы `if` (условный оператор), `for ... in range(...)` (оператор цикла с обходом диапазона). Применялись функция `print()`"
      ]
    },
    {
      "cell_type": "markdown",
      "metadata": {},
      "source": [
        "## Ответы на контрольные вопросы"
      ]
    },
    {
      "cell_type": "markdown",
      "metadata": {},
      "source": [
        "### Вопрос 1\n",
        "\n",
        "Операторы для повторения кода:\n",
        "Цикл while - используется для многократного выполнения блока инструкций до тех пор, пока не будет выполнено заданное условие\n",
        "Цикл for - применяется для последовательного обхода элементов (списков, строк, массивов)\n",
        "\n",
        "### Вопрос 2.\n",
        "\n",
        "Операторы применяемые в работе:\n",
        "if ( условный оператор)\n",
        "for ... in range(...) ( оператор цикла )\n",
        "\n",
        "### Вопрос 3.\n",
        "\n",
        "Функция print() имеет следующие параметры:\n",
        "end - определяет символ, который добавляется в конце вывода (по умолчанию ‘\\n’)\n",
        "sep - символ-разделитель между выводимыми значениями (по умолчанию пробел)\n",
        "file - объект, куда будет производиться вывод (по умолчанию sys.stdout)\n",
        "flush - буферизация вывода (True/False)\n",
        "\n",
        "### Вопрос 4.\n",
        "\n",
        "Список в Python - это упорядоченная изменяемая коллекция объектов произвольных типов. Он создается с помощью квадратных скобок [] и может содержать любые типы данных.\n",
        "\n",
        "### Вопрос 5.\n",
        "\n",
        "Обращение к элементам списка:\n",
        "По индексу (начиная с 0)\n",
        "С помощью срезов\n",
        "Отрицательный индекс (-1 - последний элемент, -2 - предпоследний)\n",
        "Множественный доступ через циклы\n",
        "\n",
        "### Вопрос 6.\n",
        "\n",
        "Отличия списка Python от массива C++:\n",
        "\n",
        "Динамический размер - списки Python могут изменять размер в процессе работы, массивы C++ имеют фиксированный размер\n",
        "Типы данных - списки могут содержать элементы разных типов, массивы - только одного типа\n",
        "Управление памятью - в Python автоматическое, в C++ требуется явное управление\n",
        "Методы - списки имеют встроенные методы для работы с данными, массивы требуют написания дополнительных функций\n",
        "Безопасность - списки более безопасны в использовании благодаря автоматической проверке границ"
      ]
    }
  ],
  "metadata": {
    "colab": {
      "authorship_tag": "ABX9TyOD1IX2bi0VuQlnYV4g6C73",
      "include_colab_link": true,
      "provenance": [],
      "toc_visible": true
    },
    "kernelspec": {
      "display_name": "Python 3",
      "name": "python3"
    },
    "language_info": {
      "codemirror_mode": {
        "name": "ipython",
        "version": 3
      },
      "file_extension": ".py",
      "mimetype": "text/x-python",
      "name": "python",
      "nbconvert_exporter": "python",
      "pygments_lexer": "ipython3",
      "version": "3.13.4"
    }
  },
  "nbformat": 4,
  "nbformat_minor": 0
}
